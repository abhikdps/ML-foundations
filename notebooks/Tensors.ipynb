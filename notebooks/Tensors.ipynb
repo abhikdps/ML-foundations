{
 "cells": [
  {
   "cell_type": "markdown",
   "id": "1ab1de3d-f3b1-4267-ae47-1d73f51d8b22",
   "metadata": {},
   "source": [
    "## Tensors"
   ]
  },
  {
   "cell_type": "markdown",
   "id": "e4facf16-39fe-4834-bf8d-f3446a7ad14f",
   "metadata": {},
   "source": [
    "### Scalars (Rank 0 Tensors)"
   ]
  },
  {
   "cell_type": "code",
   "execution_count": 4,
   "id": "92397f6b-e04e-4db6-8f4d-59cf8721fb4e",
   "metadata": {},
   "outputs": [
    {
     "data": {
      "text/plain": [
       "int"
      ]
     },
     "execution_count": 4,
     "metadata": {},
     "output_type": "execute_result"
    }
   ],
   "source": [
    "x = 25\n",
    "y = 3\n",
    "type(x)"
   ]
  },
  {
   "cell_type": "code",
   "execution_count": 5,
   "id": "0453bcc3-cb14-485e-8d4c-38f7a923e35e",
   "metadata": {},
   "outputs": [
    {
     "data": {
      "text/plain": [
       "int"
      ]
     },
     "execution_count": 5,
     "metadata": {},
     "output_type": "execute_result"
    }
   ],
   "source": [
    "xy_sum = x + y\n",
    "type(xy_sum)"
   ]
  },
  {
   "cell_type": "code",
   "execution_count": 6,
   "id": "2124d035-9e67-4de9-888c-340ba2a6b03e",
   "metadata": {},
   "outputs": [
    {
     "data": {
      "text/plain": [
       "28"
      ]
     },
     "execution_count": 6,
     "metadata": {},
     "output_type": "execute_result"
    }
   ],
   "source": [
    "xy_sum"
   ]
  },
  {
   "cell_type": "code",
   "execution_count": 7,
   "id": "a1350688-b3b2-44fd-9785-4ed6f58caa9b",
   "metadata": {},
   "outputs": [],
   "source": [
    "x_float = 25.0"
   ]
  },
  {
   "cell_type": "code",
   "execution_count": 8,
   "id": "733a7e97-453b-490e-b9f0-70646a5d9ed6",
   "metadata": {},
   "outputs": [],
   "source": [
    "xy_float = x_float + y"
   ]
  },
  {
   "cell_type": "code",
   "execution_count": 9,
   "id": "4d371f26-4dae-47c2-a54d-250eefd6ae35",
   "metadata": {},
   "outputs": [
    {
     "data": {
      "text/plain": [
       "28.0"
      ]
     },
     "execution_count": 9,
     "metadata": {},
     "output_type": "execute_result"
    }
   ],
   "source": [
    "xy_float"
   ]
  },
  {
   "cell_type": "code",
   "execution_count": 10,
   "id": "9939fc38-8c35-42c6-b225-d20814b58906",
   "metadata": {},
   "outputs": [
    {
     "data": {
      "text/plain": [
       "float"
      ]
     },
     "execution_count": 10,
     "metadata": {},
     "output_type": "execute_result"
    }
   ],
   "source": [
    "type(xy_float)"
   ]
  },
  {
   "cell_type": "markdown",
   "id": "acc929b2-281a-4d78-aad4-3a68d5a3191d",
   "metadata": {},
   "source": [
    "#### Scalars in Pytorch"
   ]
  },
  {
   "cell_type": "code",
   "execution_count": 14,
   "id": "3054272d-c872-48ec-8703-91d3e39d2fb3",
   "metadata": {},
   "outputs": [],
   "source": [
    "import torch"
   ]
  },
  {
   "cell_type": "code",
   "execution_count": 16,
   "id": "7bce46e0-5b08-42d9-9eb7-60e22592671a",
   "metadata": {},
   "outputs": [
    {
     "data": {
      "text/plain": [
       "tensor(25)"
      ]
     },
     "execution_count": 16,
     "metadata": {},
     "output_type": "execute_result"
    }
   ],
   "source": [
    "x_pt = torch.tensor(25)\n",
    "x_pt"
   ]
  },
  {
   "cell_type": "code",
   "execution_count": 17,
   "id": "14f0c683-3f87-4f82-9044-bce7aa4cc45a",
   "metadata": {},
   "outputs": [
    {
     "data": {
      "text/plain": [
       "torch.Size([])"
      ]
     },
     "execution_count": 17,
     "metadata": {},
     "output_type": "execute_result"
    }
   ],
   "source": [
    "x_pt.shape # Shape is the dimension of x_pt, i.e, 1-D meaning it is a rank-0 scalar"
   ]
  },
  {
   "cell_type": "markdown",
   "id": "7f498298-a2fc-4d1f-8287-4176f5fad80f",
   "metadata": {},
   "source": [
    "#### Scalars in TensorFlow"
   ]
  },
  {
   "cell_type": "code",
   "execution_count": 19,
   "id": "8bcc3dd7-f43b-4a81-8042-4885a09a3a19",
   "metadata": {},
   "outputs": [],
   "source": [
    "import tensorflow as tf"
   ]
  },
  {
   "cell_type": "code",
   "execution_count": 25,
   "id": "b0d0755d-89ce-4847-ade2-6dd7db026a0b",
   "metadata": {},
   "outputs": [
    {
     "data": {
      "text/plain": [
       "<tf.Variable 'Variable:0' shape=() dtype=int16, numpy=25>"
      ]
     },
     "execution_count": 25,
     "metadata": {},
     "output_type": "execute_result"
    }
   ],
   "source": [
    "x_tf = tf.Variable(25, dtype=tf.int16) # dtype is optional\n",
    "# tf.Variable is the equivalent of torch.tensor but gives a complicated output\n",
    "x_tf"
   ]
  },
  {
   "cell_type": "code",
   "execution_count": 26,
   "id": "04b272a6-9b15-4b4f-a33d-9a3d031a95d0",
   "metadata": {},
   "outputs": [
    {
     "data": {
      "text/plain": [
       "TensorShape([])"
      ]
     },
     "execution_count": 26,
     "metadata": {},
     "output_type": "execute_result"
    }
   ],
   "source": [
    "x_tf.shape # Equivalent of torch.shape"
   ]
  },
  {
   "cell_type": "code",
   "execution_count": 30,
   "id": "074624a2-1178-432e-9726-4ccaa37552e0",
   "metadata": {},
   "outputs": [],
   "source": [
    "y_tf = tf.Variable(3, dtype=tf.int16)"
   ]
  },
  {
   "cell_type": "code",
   "execution_count": 31,
   "id": "d394a3b2-6878-43de-903c-2bc0277e9f8b",
   "metadata": {},
   "outputs": [
    {
     "data": {
      "text/plain": [
       "<tf.Tensor: shape=(), dtype=int16, numpy=28>"
      ]
     },
     "execution_count": 31,
     "metadata": {},
     "output_type": "execute_result"
    }
   ],
   "source": [
    "x_tf + y_tf"
   ]
  },
  {
   "cell_type": "code",
   "execution_count": 34,
   "id": "2574b8e3-f743-4c0a-bedd-a916c4dbfb1b",
   "metadata": {},
   "outputs": [
    {
     "data": {
      "text/plain": [
       "<tf.Tensor: shape=(), dtype=int16, numpy=28>"
      ]
     },
     "execution_count": 34,
     "metadata": {},
     "output_type": "execute_result"
    }
   ],
   "source": [
    "sum_tf = tf.add(x_tf, y_tf) # Add functionality of the tensorflow module\n",
    "sum_tf"
   ]
  },
  {
   "cell_type": "code",
   "execution_count": 36,
   "id": "a4408324-ff66-4fb1-bd91-85f9cca0c4b3",
   "metadata": {},
   "outputs": [
    {
     "data": {
      "text/plain": [
       "np.int16(28)"
      ]
     },
     "execution_count": 36,
     "metadata": {},
     "output_type": "execute_result"
    }
   ],
   "source": [
    "sum_tf.numpy()"
   ]
  },
  {
   "cell_type": "code",
   "execution_count": 37,
   "id": "a0e5d1eb-6dce-4a7a-921d-4edf528ebe4e",
   "metadata": {},
   "outputs": [
    {
     "data": {
      "text/plain": [
       "numpy.int16"
      ]
     },
     "execution_count": 37,
     "metadata": {},
     "output_type": "execute_result"
    }
   ],
   "source": [
    "type(sum_tf.numpy())"
   ]
  },
  {
   "cell_type": "code",
   "execution_count": 39,
   "id": "0831be7c-48a4-42ae-96a0-cb05279e0e67",
   "metadata": {},
   "outputs": [
    {
     "data": {
      "text/plain": [
       "<tf.Variable 'Variable:0' shape=() dtype=float16, numpy=25.0>"
      ]
     },
     "execution_count": 39,
     "metadata": {},
     "output_type": "execute_result"
    }
   ],
   "source": [
    "tf_float = tf.Variable(25., dtype=tf.float16) # To Remember: how we have mentioned 25 as 25.\n",
    "tf_float"
   ]
  },
  {
   "cell_type": "markdown",
   "id": "ad8560c9-65ad-45c1-a902-490128a3343e",
   "metadata": {},
   "source": [
    "### Vectors (Rank 1 Tensors)"
   ]
  },
  {
   "cell_type": "code",
   "execution_count": 1,
   "id": "8925d483-3f82-4ab1-9aba-fc2920586c67",
   "metadata": {},
   "outputs": [],
   "source": [
    "import numpy as np"
   ]
  },
  {
   "cell_type": "code",
   "execution_count": 11,
   "id": "e50e2224-f5b9-4695-bc1f-12346c17024b",
   "metadata": {},
   "outputs": [
    {
     "data": {
      "text/plain": [
       "array([25,  3,  7])"
      ]
     },
     "execution_count": 11,
     "metadata": {},
     "output_type": "execute_result"
    }
   ],
   "source": [
    "x = np.array([25, 3, 7]) # type argument is optional, e.g.: dtype=np.float16\n",
    "x"
   ]
  },
  {
   "cell_type": "code",
   "execution_count": 3,
   "id": "870a23ab-d26a-4a51-8820-81682de96466",
   "metadata": {},
   "outputs": [
    {
     "data": {
      "text/plain": [
       "3"
      ]
     },
     "execution_count": 3,
     "metadata": {},
     "output_type": "execute_result"
    }
   ],
   "source": [
    "len(x)"
   ]
  },
  {
   "cell_type": "code",
   "execution_count": 4,
   "id": "e000a38e-81aa-4df9-8dbc-d5f030cae5d5",
   "metadata": {},
   "outputs": [
    {
     "data": {
      "text/plain": [
       "numpy.ndarray"
      ]
     },
     "execution_count": 4,
     "metadata": {},
     "output_type": "execute_result"
    }
   ],
   "source": [
    "type(x)"
   ]
  },
  {
   "cell_type": "code",
   "execution_count": 5,
   "id": "51e418ad-1623-4657-bceb-bc69b284e8ca",
   "metadata": {},
   "outputs": [
    {
     "data": {
      "text/plain": [
       "(3,)"
      ]
     },
     "execution_count": 5,
     "metadata": {},
     "output_type": "execute_result"
    }
   ],
   "source": [
    "x.shape"
   ]
  },
  {
   "cell_type": "code",
   "execution_count": 6,
   "id": "d6684c72-53f6-43da-aad0-20829e75974f",
   "metadata": {},
   "outputs": [
    {
     "data": {
      "text/plain": [
       "np.int64(25)"
      ]
     },
     "execution_count": 6,
     "metadata": {},
     "output_type": "execute_result"
    }
   ],
   "source": [
    "x[0]"
   ]
  },
  {
   "cell_type": "code",
   "execution_count": 9,
   "id": "4aaf4631-054c-41b1-9aaf-56553ece9007",
   "metadata": {},
   "outputs": [
    {
     "data": {
      "text/plain": [
       "numpy.int64"
      ]
     },
     "execution_count": 9,
     "metadata": {},
     "output_type": "execute_result"
    }
   ],
   "source": [
    "type(x[0])"
   ]
  },
  {
   "cell_type": "markdown",
   "id": "0bb341cb-fb17-4e05-b683-fb22ae4e0d90",
   "metadata": {},
   "source": [
    "#### Vector Transposition"
   ]
  },
  {
   "cell_type": "code",
   "execution_count": 12,
   "id": "2a5a418c-7ebb-4506-a2ff-091c85c04ab4",
   "metadata": {},
   "outputs": [
    {
     "data": {
      "text/plain": [
       "array([25,  3,  7])"
      ]
     },
     "execution_count": 12,
     "metadata": {},
     "output_type": "execute_result"
    }
   ],
   "source": [
    "# Transposing a 1-D array has no effect\n",
    "x_t = x.T\n",
    "x_t"
   ]
  },
  {
   "cell_type": "code",
   "execution_count": 13,
   "id": "1af1967b-a101-406e-8acc-62b3c02e0862",
   "metadata": {},
   "outputs": [
    {
     "data": {
      "text/plain": [
       "(3,)"
      ]
     },
     "execution_count": 13,
     "metadata": {},
     "output_type": "execute_result"
    }
   ],
   "source": [
    "x_t.shape"
   ]
  },
  {
   "cell_type": "code",
   "execution_count": 14,
   "id": "c034382b-752a-41d1-a64d-aea34ce48914",
   "metadata": {},
   "outputs": [
    {
     "data": {
      "text/plain": [
       "array([[25,  3,  7]])"
      ]
     },
     "execution_count": 14,
     "metadata": {},
     "output_type": "execute_result"
    }
   ],
   "source": [
    "# but it does when we use nested \"matrix-style\" brackets:\n",
    "y = np.array([[25, 3, 7]])\n",
    "y"
   ]
  },
  {
   "cell_type": "code",
   "execution_count": 15,
   "id": "b402b4b9-cc06-4c8b-95fd-69d28381c287",
   "metadata": {},
   "outputs": [
    {
     "data": {
      "text/plain": [
       "(1, 3)"
      ]
     },
     "execution_count": 15,
     "metadata": {},
     "output_type": "execute_result"
    }
   ],
   "source": [
    "y.shape"
   ]
  },
  {
   "cell_type": "code",
   "execution_count": 16,
   "id": "d3264713-fcf2-4e8f-a74c-02530c3bcaa8",
   "metadata": {},
   "outputs": [
    {
     "data": {
      "text/plain": [
       "array([[25],\n",
       "       [ 3],\n",
       "       [ 7]])"
      ]
     },
     "execution_count": 16,
     "metadata": {},
     "output_type": "execute_result"
    }
   ],
   "source": [
    "y_t = y.T\n",
    "y_t"
   ]
  },
  {
   "cell_type": "code",
   "execution_count": 17,
   "id": "85cb8808-c0c3-4942-9c1a-1da4d0c9a261",
   "metadata": {},
   "outputs": [
    {
     "data": {
      "text/plain": [
       "(3, 1)"
      ]
     },
     "execution_count": 17,
     "metadata": {},
     "output_type": "execute_result"
    }
   ],
   "source": [
    "y_t.shape"
   ]
  },
  {
   "cell_type": "code",
   "execution_count": 18,
   "id": "959a2543-2947-4399-a653-66a590b4dc7b",
   "metadata": {},
   "outputs": [
    {
     "data": {
      "text/plain": [
       "array([[25,  3,  7]])"
      ]
     },
     "execution_count": 18,
     "metadata": {},
     "output_type": "execute_result"
    }
   ],
   "source": [
    "y_t.T"
   ]
  },
  {
   "cell_type": "code",
   "execution_count": 19,
   "id": "d356419e-dd71-4c49-9f63-53c2c642d103",
   "metadata": {},
   "outputs": [
    {
     "data": {
      "text/plain": [
       "(1, 3)"
      ]
     },
     "execution_count": 19,
     "metadata": {},
     "output_type": "execute_result"
    }
   ],
   "source": [
    "y_t.T.shape"
   ]
  },
  {
   "cell_type": "markdown",
   "id": "0301beae-8d2a-4af4-aa31-9595026ca6c3",
   "metadata": {},
   "source": [
    "#### Zero Vectors"
   ]
  },
  {
   "cell_type": "code",
   "execution_count": 21,
   "id": "04b29ef4-b27c-4ca7-ba28-766c509c0627",
   "metadata": {},
   "outputs": [
    {
     "data": {
      "text/plain": [
       "array([0., 0., 0.])"
      ]
     },
     "execution_count": 21,
     "metadata": {},
     "output_type": "execute_result"
    }
   ],
   "source": [
    "# Have no effect if added to another vector\n",
    "z = np.zeros(3)\n",
    "z"
   ]
  },
  {
   "cell_type": "markdown",
   "id": "c526e826-a7f4-403f-bd8f-3de238eae4e4",
   "metadata": {},
   "source": [
    "#### Vectors in PyTorch and TensorFlow"
   ]
  },
  {
   "cell_type": "code",
   "execution_count": 23,
   "id": "468ee87a-2bc2-420b-a291-563b0dc02616",
   "metadata": {},
   "outputs": [],
   "source": [
    "import torch"
   ]
  },
  {
   "cell_type": "code",
   "execution_count": 24,
   "id": "9f2d8ca4-b82e-4af2-b535-9fe1497fa469",
   "metadata": {},
   "outputs": [
    {
     "data": {
      "text/plain": [
       "tensor([25,  3,  7])"
      ]
     },
     "execution_count": 24,
     "metadata": {},
     "output_type": "execute_result"
    }
   ],
   "source": [
    "x_pt = torch.tensor([25, 3, 7])\n",
    "x_pt"
   ]
  },
  {
   "cell_type": "code",
   "execution_count": 25,
   "id": "6a133d12-77dd-4eb8-bddc-014b90ca4cd9",
   "metadata": {},
   "outputs": [],
   "source": [
    "import tensorflow as tf"
   ]
  },
  {
   "cell_type": "code",
   "execution_count": 26,
   "id": "82b0eaf7-2c86-46bf-b52f-18cbb7ff7963",
   "metadata": {},
   "outputs": [
    {
     "data": {
      "text/plain": [
       "<tf.Variable 'Variable:0' shape=(3,) dtype=int32, numpy=array([25,  3,  7], dtype=int32)>"
      ]
     },
     "execution_count": 26,
     "metadata": {},
     "output_type": "execute_result"
    }
   ],
   "source": [
    "x_tf = tf.Variable([25, 3, 7])\n",
    "x_tf"
   ]
  },
  {
   "cell_type": "code",
   "execution_count": null,
   "id": "730b529d-d093-4357-b514-5004bafd503b",
   "metadata": {},
   "outputs": [],
   "source": []
  }
 ],
 "metadata": {
  "kernelspec": {
   "display_name": "Python 3 (ipykernel)",
   "language": "python",
   "name": "python3"
  },
  "language_info": {
   "codemirror_mode": {
    "name": "ipython",
    "version": 3
   },
   "file_extension": ".py",
   "mimetype": "text/x-python",
   "name": "python",
   "nbconvert_exporter": "python",
   "pygments_lexer": "ipython3",
   "version": "3.11.10"
  }
 },
 "nbformat": 4,
 "nbformat_minor": 5
}
