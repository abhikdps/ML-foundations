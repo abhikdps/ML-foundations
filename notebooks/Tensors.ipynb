{
 "cells": [
  {
   "cell_type": "markdown",
   "id": "1ab1de3d-f3b1-4267-ae47-1d73f51d8b22",
   "metadata": {},
   "source": [
    "## Tensors"
   ]
  },
  {
   "cell_type": "markdown",
   "id": "e4facf16-39fe-4834-bf8d-f3446a7ad14f",
   "metadata": {},
   "source": [
    "### Scalars (Rank 0 Tensors)"
   ]
  },
  {
   "cell_type": "code",
   "execution_count": 4,
   "id": "92397f6b-e04e-4db6-8f4d-59cf8721fb4e",
   "metadata": {},
   "outputs": [
    {
     "data": {
      "text/plain": [
       "int"
      ]
     },
     "execution_count": 4,
     "metadata": {},
     "output_type": "execute_result"
    }
   ],
   "source": [
    "x = 25\n",
    "y = 3\n",
    "type(x)"
   ]
  },
  {
   "cell_type": "code",
   "execution_count": 5,
   "id": "0453bcc3-cb14-485e-8d4c-38f7a923e35e",
   "metadata": {},
   "outputs": [
    {
     "data": {
      "text/plain": [
       "int"
      ]
     },
     "execution_count": 5,
     "metadata": {},
     "output_type": "execute_result"
    }
   ],
   "source": [
    "xy_sum = x + y\n",
    "type(xy_sum)"
   ]
  },
  {
   "cell_type": "code",
   "execution_count": 6,
   "id": "2124d035-9e67-4de9-888c-340ba2a6b03e",
   "metadata": {},
   "outputs": [
    {
     "data": {
      "text/plain": [
       "28"
      ]
     },
     "execution_count": 6,
     "metadata": {},
     "output_type": "execute_result"
    }
   ],
   "source": [
    "xy_sum"
   ]
  },
  {
   "cell_type": "code",
   "execution_count": 7,
   "id": "a1350688-b3b2-44fd-9785-4ed6f58caa9b",
   "metadata": {},
   "outputs": [],
   "source": [
    "x_float = 25.0"
   ]
  },
  {
   "cell_type": "code",
   "execution_count": 8,
   "id": "733a7e97-453b-490e-b9f0-70646a5d9ed6",
   "metadata": {},
   "outputs": [],
   "source": [
    "xy_float = x_float + y"
   ]
  },
  {
   "cell_type": "code",
   "execution_count": 9,
   "id": "4d371f26-4dae-47c2-a54d-250eefd6ae35",
   "metadata": {},
   "outputs": [
    {
     "data": {
      "text/plain": [
       "28.0"
      ]
     },
     "execution_count": 9,
     "metadata": {},
     "output_type": "execute_result"
    }
   ],
   "source": [
    "xy_float"
   ]
  },
  {
   "cell_type": "code",
   "execution_count": 10,
   "id": "9939fc38-8c35-42c6-b225-d20814b58906",
   "metadata": {},
   "outputs": [
    {
     "data": {
      "text/plain": [
       "float"
      ]
     },
     "execution_count": 10,
     "metadata": {},
     "output_type": "execute_result"
    }
   ],
   "source": [
    "type(xy_float)"
   ]
  },
  {
   "cell_type": "markdown",
   "id": "acc929b2-281a-4d78-aad4-3a68d5a3191d",
   "metadata": {},
   "source": [
    "#### Scalars in Pytorch"
   ]
  },
  {
   "cell_type": "code",
   "execution_count": 14,
   "id": "3054272d-c872-48ec-8703-91d3e39d2fb3",
   "metadata": {},
   "outputs": [],
   "source": [
    "import torch"
   ]
  },
  {
   "cell_type": "code",
   "execution_count": 16,
   "id": "7bce46e0-5b08-42d9-9eb7-60e22592671a",
   "metadata": {},
   "outputs": [
    {
     "data": {
      "text/plain": [
       "tensor(25)"
      ]
     },
     "execution_count": 16,
     "metadata": {},
     "output_type": "execute_result"
    }
   ],
   "source": [
    "x_pt = torch.tensor(25)\n",
    "x_pt"
   ]
  },
  {
   "cell_type": "code",
   "execution_count": 17,
   "id": "14f0c683-3f87-4f82-9044-bce7aa4cc45a",
   "metadata": {},
   "outputs": [
    {
     "data": {
      "text/plain": [
       "torch.Size([])"
      ]
     },
     "execution_count": 17,
     "metadata": {},
     "output_type": "execute_result"
    }
   ],
   "source": [
    "x_pt.shape # Shape is the dimension of x_pt, i.e, 1-D meaning it is a rank-0 scalar"
   ]
  },
  {
   "cell_type": "markdown",
   "id": "7f498298-a2fc-4d1f-8287-4176f5fad80f",
   "metadata": {},
   "source": [
    "#### Scalars in TensorFlow"
   ]
  },
  {
   "cell_type": "code",
   "execution_count": 19,
   "id": "8bcc3dd7-f43b-4a81-8042-4885a09a3a19",
   "metadata": {},
   "outputs": [],
   "source": [
    "import tensorflow as tf"
   ]
  },
  {
   "cell_type": "code",
   "execution_count": 25,
   "id": "b0d0755d-89ce-4847-ade2-6dd7db026a0b",
   "metadata": {},
   "outputs": [
    {
     "data": {
      "text/plain": [
       "<tf.Variable 'Variable:0' shape=() dtype=int16, numpy=25>"
      ]
     },
     "execution_count": 25,
     "metadata": {},
     "output_type": "execute_result"
    }
   ],
   "source": [
    "x_tf = tf.Variable(25, dtype=tf.int16) # dtype is optional\n",
    "# tf.Variable is the equivalent of torch.tensor but gives a complicated output\n",
    "x_tf"
   ]
  },
  {
   "cell_type": "code",
   "execution_count": 26,
   "id": "04b272a6-9b15-4b4f-a33d-9a3d031a95d0",
   "metadata": {},
   "outputs": [
    {
     "data": {
      "text/plain": [
       "TensorShape([])"
      ]
     },
     "execution_count": 26,
     "metadata": {},
     "output_type": "execute_result"
    }
   ],
   "source": [
    "x_tf.shape # Equivalent of torch.shape"
   ]
  },
  {
   "cell_type": "code",
   "execution_count": 30,
   "id": "074624a2-1178-432e-9726-4ccaa37552e0",
   "metadata": {},
   "outputs": [],
   "source": [
    "y_tf = tf.Variable(3, dtype=tf.int16)"
   ]
  },
  {
   "cell_type": "code",
   "execution_count": 31,
   "id": "d394a3b2-6878-43de-903c-2bc0277e9f8b",
   "metadata": {},
   "outputs": [
    {
     "data": {
      "text/plain": [
       "<tf.Tensor: shape=(), dtype=int16, numpy=28>"
      ]
     },
     "execution_count": 31,
     "metadata": {},
     "output_type": "execute_result"
    }
   ],
   "source": [
    "x_tf + y_tf"
   ]
  },
  {
   "cell_type": "code",
   "execution_count": 34,
   "id": "2574b8e3-f743-4c0a-bedd-a916c4dbfb1b",
   "metadata": {},
   "outputs": [
    {
     "data": {
      "text/plain": [
       "<tf.Tensor: shape=(), dtype=int16, numpy=28>"
      ]
     },
     "execution_count": 34,
     "metadata": {},
     "output_type": "execute_result"
    }
   ],
   "source": [
    "sum_tf = tf.add(x_tf, y_tf) # Add functionality of the tensorflow module\n",
    "sum_tf"
   ]
  },
  {
   "cell_type": "code",
   "execution_count": 36,
   "id": "a4408324-ff66-4fb1-bd91-85f9cca0c4b3",
   "metadata": {},
   "outputs": [
    {
     "data": {
      "text/plain": [
       "np.int16(28)"
      ]
     },
     "execution_count": 36,
     "metadata": {},
     "output_type": "execute_result"
    }
   ],
   "source": [
    "sum_tf.numpy()"
   ]
  },
  {
   "cell_type": "code",
   "execution_count": 37,
   "id": "a0e5d1eb-6dce-4a7a-921d-4edf528ebe4e",
   "metadata": {},
   "outputs": [
    {
     "data": {
      "text/plain": [
       "numpy.int16"
      ]
     },
     "execution_count": 37,
     "metadata": {},
     "output_type": "execute_result"
    }
   ],
   "source": [
    "type(sum_tf.numpy())"
   ]
  },
  {
   "cell_type": "code",
   "execution_count": 39,
   "id": "0831be7c-48a4-42ae-96a0-cb05279e0e67",
   "metadata": {},
   "outputs": [
    {
     "data": {
      "text/plain": [
       "<tf.Variable 'Variable:0' shape=() dtype=float16, numpy=25.0>"
      ]
     },
     "execution_count": 39,
     "metadata": {},
     "output_type": "execute_result"
    }
   ],
   "source": [
    "tf_float = tf.Variable(25., dtype=tf.float16) # To Remember: how we have mentioned 25 as 25.\n",
    "tf_float"
   ]
  },
  {
   "cell_type": "code",
   "execution_count": null,
   "id": "8ef9e352-0c45-40d5-aa10-0dd97ff12d1f",
   "metadata": {},
   "outputs": [],
   "source": []
  }
 ],
 "metadata": {
  "kernelspec": {
   "display_name": "Python 3 (ipykernel)",
   "language": "python",
   "name": "python3"
  },
  "language_info": {
   "codemirror_mode": {
    "name": "ipython",
    "version": 3
   },
   "file_extension": ".py",
   "mimetype": "text/x-python",
   "name": "python",
   "nbconvert_exporter": "python",
   "pygments_lexer": "ipython3",
   "version": "3.11.10"
  }
 },
 "nbformat": 4,
 "nbformat_minor": 5
}
